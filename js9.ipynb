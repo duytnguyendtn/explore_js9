{
 "cells": [
  {
   "cell_type": "code",
   "execution_count": null,
   "id": "bd813e08-b11e-47dc-9d9d-83947fe682ff",
   "metadata": {},
   "outputs": [],
   "source": [
    "# Start a JS9 frontend\n",
    "import jpyjs9\n",
    "my_js9 = jpyjs9.JS9(debug=True)"
   ]
  }
 ],
 "metadata": {
  "kernelspec": {
   "display_name": "Python 3 (ipykernel)",
   "language": "python",
   "name": "python3"
  },
  "language_info": {
   "codemirror_mode": {
    "name": "ipython",
    "version": 3
   },
   "file_extension": ".py",
   "mimetype": "text/x-python",
   "name": "python",
   "nbconvert_exporter": "python",
   "pygments_lexer": "ipython3",
   "version": "3.10.10"
  }
 },
 "nbformat": 4,
 "nbformat_minor": 5
}
